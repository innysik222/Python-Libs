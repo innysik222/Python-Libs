{
  "nbformat": 4,
  "nbformat_minor": 0,
  "metadata": {
    "colab": {
      "name": "Lib_Sklearn_unsupervised.ipynb",
      "provenance": [],
      "authorship_tag": "ABX9TyPECQBoAC+iALIOGiA/L6Rz",
      "include_colab_link": true
    },
    "kernelspec": {
      "name": "python3",
      "display_name": "Python 3"
    },
    "language_info": {
      "name": "python"
    }
  },
  "cells": [
    {
      "cell_type": "markdown",
      "metadata": {
        "id": "view-in-github",
        "colab_type": "text"
      },
      "source": [
        "<a href=\"https://colab.research.google.com/github/innysik222/Python-Libs/blob/main/Lib_Sklearn_unsupervised.ipynb\" target=\"_parent\"><img src=\"https://colab.research.google.com/assets/colab-badge.svg\" alt=\"Open In Colab\"/></a>"
      ]
    },
    {
      "cell_type": "markdown",
      "metadata": {
        "id": "-GGt1b411gP9"
      },
      "source": [
        "Задание 1\n",
        "Импортируйте библиотеки pandas, numpy и matplotlib.\n",
        "Загрузите \"Boston House Prices dataset\" из встроенных наборов \n",
        "данных библиотеки sklearn.\n",
        "Создайте датафреймы X и y из этих данных.\n",
        "Разбейте эти датафреймы на тренировочные (X_train, y_train) и тестовые (X_test, y_test)\n",
        "с помощью функции train_test_split так, чтобы размер тестовой выборки\n",
        "составлял 20% от всех данных, при этом аргумент random_state должен быть равен 42.\n",
        "Масштабируйте данные с помощью StandardScaler.\n",
        "Постройте модель TSNE на тренировочный данных с параметрами:\n",
        "n_components=2, learning_rate=250, random_state=42.\n",
        "Постройте диаграмму рассеяния на этих данных.\n"
      ]
    },
    {
      "cell_type": "code",
      "metadata": {
        "id": "coLAdsqvSy6l"
      },
      "source": [
        "import warnings\n",
        "\n",
        "warnings.filterwarnings('ignore')"
      ],
      "execution_count": null,
      "outputs": []
    },
    {
      "cell_type": "code",
      "metadata": {
        "id": "Aj8F8aFC01mT"
      },
      "source": [
        "import pandas as pd\n",
        "import numpy as np\n",
        "import matplotlib.pyplot as plt"
      ],
      "execution_count": null,
      "outputs": []
    },
    {
      "cell_type": "code",
      "metadata": {
        "id": "pEOcVYWLPUev"
      },
      "source": [
        "from sklearn.datasets import load_boston\n",
        "boston=load_boston()\n",
        "Data=boston['data']\n",
        "target=boston['target']\n",
        "feature_names=boston['feature_names']\n",
        "X=pd.DataFrame(Data, columns=feature_names)\n",
        "y=pd.DataFrame(target, columns=['price'])"
      ],
      "execution_count": null,
      "outputs": []
    },
    {
      "cell_type": "code",
      "metadata": {
        "id": "QzZEytsmVNua"
      },
      "source": [
        "from sklearn.model_selection import train_test_split\n",
        "X_train, X_test, y_train, y_test=train_test_split(X,y, test_size=0.2, random_state=42)"
      ],
      "execution_count": null,
      "outputs": []
    },
    {
      "cell_type": "code",
      "metadata": {
        "id": "H1-JndsHXLNf"
      },
      "source": [
        "from sklearn.preprocessing import StandardScaler\n",
        "\n",
        "scaler = StandardScaler(with_mean=False)\n",
        "\n",
        "X_train_scaled = pd.DataFrame(scaler.fit_transform(X_train), columns=X_train.columns)\n",
        "X_test_scaled = pd.DataFrame(scaler.transform(X_test), columns=X_test.columns)"
      ],
      "execution_count": null,
      "outputs": []
    },
    {
      "cell_type": "code",
      "metadata": {
        "colab": {
          "base_uri": "https://localhost:8080/"
        },
        "id": "b7PEaudlXs9W",
        "outputId": "4d343b78-a0af-49ef-e00d-9bf81b724919"
      },
      "source": [
        "from sklearn.manifold import TSNE\n",
        "tsne = TSNE(n_components=2, learning_rate=250, random_state=42)\n",
        "\n",
        "X_train_tsne = tsne.fit_transform(X_train_scaled)\n",
        "\n",
        "print('До:\\t{}'.format(X_train_scaled.shape))\n",
        "print('После:\\t{}'.format(X_train_tsne.shape))"
      ],
      "execution_count": null,
      "outputs": [
        {
          "output_type": "stream",
          "name": "stdout",
          "text": [
            "До:\t(404, 13)\n",
            "После:\t(404, 2)\n"
          ]
        }
      ]
    },
    {
      "cell_type": "code",
      "metadata": {
        "id": "ZhQtyBm1YQw_",
        "colab": {
          "base_uri": "https://localhost:8080/",
          "height": 229
        },
        "outputId": "ae1a5aa0-21de-4ba4-e0ba-2ce37c38fc98"
      },
      "source": [
        "plt.scatter(X_train_tsne[:, 0], X_train_tsne[:, 1])\n",
        "\n",
        "plt.show()"
      ],
      "execution_count": null,
      "outputs": [
        {
          "output_type": "display_data",
          "data": {
            "image/png": "[encoded data removed]",
            "text/plain": [
              "<Figure size 432x288 with 1 Axes>"
            ]
          },
          "metadata": {
            "needs_background": "light"
          }
        }
      ]
    },
    {
      "cell_type": "markdown",
      "metadata": {
        "id": "kzPjEFrZ1k7N"
      },
      "source": [
        "Задание 2\n",
        "С помощью KMeans разбейте данные из тренировочного набора на 3 кластера,\n",
        "используйте все признаки из датафрейма X_train.\n",
        "Параметр max_iter должен быть равен 100, random_state сделайте равным 42.\n",
        "Постройте еще раз диаграмму рассеяния на данных, полученных с помощью TSNE,\n",
        "и раскрасьте точки из разных кластеров разными цветами.\n",
        "Вычислите средние значения price и CRIM в разных кластерах.\n"
      ]
    },
    {
      "cell_type": "code",
      "metadata": {
        "id": "vH5LN9TQ1rd5",
        "colab": {
          "base_uri": "https://localhost:8080/"
        },
        "outputId": "0f1c270c-bdf6-438f-ed49-7ca199d2b0d9"
      },
      "source": [
        "from sklearn.cluster import KMeans\n",
        "model=KMeans(n_clusters=3, max_iter=100, random_state=42)\n",
        "X_labels=model.fit_predict(X_train)\n",
        "X_labels_scaled=model.fit_predict(X_train_scaled)\n",
        "print(X_labels)\n",
        "print(X_labels_scaled)"
      ],
      "execution_count": null,
      "outputs": [
        {
          "output_type": "stream",
          "name": "stdout",
          "text": [
            "[1 0 0 2 0 0 0 0 2 2 0 0 0 2 0 0 0 0 0 0 2 0 0 0 0 0 2 0 0 0 0 0 0 2 0 0 0\n",
            " 0 0 0 0 0 1 0 0 1 0 0 2 1 0 0 0 0 1 1 0 1 0 0 0 0 0 0 0 1 0 0 1 0 0 0 1 0\n",
            " 0 0 0 0 0 1 1 1 0 0 2 0 1 0 1 0 0 1 1 0 0 0 1 0 0 0 0 0 0 0 0 0 0 0 0 0 2\n",
            " 0 0 0 0 1 1 1 0 0 0 1 1 0 0 0 1 0 0 1 0 0 0 0 0 1 0 0 0 0 0 1 0 0 0 1 0 0\n",
            " 0 0 0 1 0 0 0 1 0 1 0 2 0 0 1 0 0 0 0 0 0 0 0 0 0 1 0 0 2 1 0 0 0 0 1 0 0\n",
            " 2 0 0 1 1 1 0 0 1 2 0 0 0 0 0 1 2 0 0 0 0 0 0 0 0 0 0 0 1 0 0 0 2 0 1 1 0\n",
            " 2 0 0 0 0 0 0 0 2 0 0 0 0 0 0 1 0 0 0 0 0 1 1 0 0 1 1 0 0 0 2 0 0 1 0 0 2\n",
            " 0 2 0 0 0 0 0 0 0 0 0 0 1 0 1 0 0 0 0 2 0 0 0 0 1 0 0 1 0 0 0 2 0 1 1 1 0\n",
            " 0 1 0 0 0 0 0 0 1 0 0 1 0 0 0 0 0 0 0 1 0 0 0 0 0 1 0 1 1 0 2 0 0 0 2 0 2\n",
            " 1 0 0 1 0 0 0 0 0 0 0 1 0 0 0 0 0 0 1 0 0 0 1 0 1 0 2 0 0 1 0 0 0 0 0 0 0\n",
            " 0 0 1 0 0 1 0 1 0 2 0 0 0 0 0 0 1 0 1 0 1 0 0 2 0 0 0 0 0 0 0 0 2 2]\n",
            "[1 2 0 1 2 2 2 0 1 1 2 2 2 1 2 2 2 0 2 0 1 2 0 2 0 2 1 0 2 0 2 2 1 1 2 0 0\n",
            " 2 2 0 0 2 1 2 1 1 2 2 1 1 2 2 2 2 1 1 2 1 2 2 2 2 2 2 2 1 2 2 1 2 2 2 1 2\n",
            " 2 2 0 2 1 1 1 1 0 2 1 1 1 0 1 2 2 1 1 0 0 2 1 1 2 1 2 0 0 0 2 2 0 2 2 2 1\n",
            " 0 2 0 0 1 1 1 2 2 2 1 1 2 0 1 1 0 0 1 0 2 2 2 2 1 2 0 2 1 2 1 2 2 2 1 2 2\n",
            " 2 2 2 1 0 2 0 1 1 1 1 1 0 2 1 2 1 0 0 2 0 2 2 0 0 1 0 0 1 1 0 2 2 2 1 2 1\n",
            " 1 0 0 1 1 1 2 2 1 1 2 2 2 2 2 1 1 2 2 2 1 0 2 2 2 2 0 2 1 2 1 0 1 2 1 1 1\n",
            " 1 2 2 0 0 2 0 2 1 2 2 2 2 2 1 1 0 2 2 0 0 1 1 2 0 1 1 2 0 0 1 2 0 1 2 2 1\n",
            " 2 1 2 2 0 2 2 2 2 2 2 0 1 2 1 2 2 0 2 1 1 0 1 2 1 2 2 1 0 0 2 1 0 1 1 1 2\n",
            " 0 1 2 2 2 2 2 2 1 0 2 1 0 0 2 0 2 0 2 1 0 2 2 2 0 1 2 1 1 2 1 0 2 2 1 2 1\n",
            " 1 2 2 1 0 2 2 0 2 2 2 1 2 2 2 2 1 2 1 2 0 0 1 0 1 2 1 0 2 1 0 2 0 2 0 2 0\n",
            " 2 2 1 2 0 1 0 1 2 1 0 2 2 1 2 1 1 2 1 2 1 2 2 1 2 2 2 0 2 2 2 0 1 2]\n"
          ]
        }
      ]
    },
    {
      "cell_type": "code",
      "metadata": {
        "colab": {
          "base_uri": "https://localhost:8080/",
          "height": 285
        },
        "id": "n1I3wY2iBf_R",
        "outputId": "f367d08e-780d-401e-c71c-7f452ee3c715"
      },
      "source": [
        "plt.scatter(X_train_tsne[:, 0], X_train_tsne[:, 1], c=X_labels)\n",
        "plt.show()"
      ],
      "execution_count": null,
      "outputs": [
        {
          "output_type": "display_data",
          "data": {
            "image/png": "[encoded data removed]",
            "text/plain": [
              "<Figure size 432x288 with 1 Axes>"
            ]
          },
          "metadata": {
            "needs_background": "light"
          }
        }
      ]
    },
    {
      "cell_type": "code",
      "metadata": {
        "colab": {
          "base_uri": "https://localhost:8080/",
          "height": 229
        },
        "id": "l1swgYBHI2pt",
        "outputId": "fd3cfb7d-fc29-4af7-8880-81d26a9082b2"
      },
      "source": [
        "plt.scatter(X_train_tsne[:, 0], X_train_tsne[:, 1], c=X_labels_scaled)\n",
        "plt.show()"
      ],
      "execution_count": null,
      "outputs": [
        {
          "output_type": "display_data",
          "data": {
            "image/png": "[encoded data removed]",
            "text/plain": [
              "<Figure size 432x288 with 1 Axes>"
            ]
          },
          "metadata": {
            "needs_background": "light"
          }
        }
      ]
    },
    {
      "cell_type": "code",
      "metadata": {
        "id": "77zNVcJ2CrnS"
      },
      "source": [
        ""
      ],
      "execution_count": null,
      "outputs": []
    },
    {
      "cell_type": "code",
      "metadata": {
        "id": "HXXbHvSm1zKC",
        "colab": {
          "base_uri": "https://localhost:8080/"
        },
        "outputId": "cdb57e6a-da80-468d-9a97-97ca604f946f"
      },
      "source": [
        "y_train.mean()"
      ],
      "execution_count": null,
      "outputs": [
        {
          "output_type": "execute_result",
          "data": {
            "text/plain": [
              "price    22.796535\n",
              "dtype: float64"
            ]
          },
          "metadata": {},
          "execution_count": 23
        }
      ]
    },
    {
      "cell_type": "code",
      "metadata": {
        "colab": {
          "base_uri": "https://localhost:8080/"
        },
        "id": "wP-mjYn0CzdJ",
        "outputId": "d87cb84d-8c0d-41c6-9f1b-1ef14986f07a"
      },
      "source": [
        "print(y_train[X_labels_scaled==0].mean())\n",
        "y_train[X_labels==0].mean()"
      ],
      "execution_count": null,
      "outputs": [
        {
          "output_type": "stream",
          "name": "stdout",
          "text": [
            "price    27.788372\n",
            "dtype: float64\n"
          ]
        },
        {
          "output_type": "execute_result",
          "data": {
            "text/plain": [
              "price    25.168687\n",
              "dtype: float64"
            ]
          },
          "metadata": {},
          "execution_count": 50
        }
      ]
    },
    {
      "cell_type": "code",
      "metadata": {
        "colab": {
          "base_uri": "https://localhost:8080/"
        },
        "id": "vnxwDV8VDAC3",
        "outputId": "cc9daeab-d858-4cec-8e18-0176b70fc238"
      },
      "source": [
        "print(y_train[X_labels==1].mean())\n",
        "y_train[X_labels_scaled==1].mean()"
      ],
      "execution_count": null,
      "outputs": [
        {
          "output_type": "stream",
          "name": "stdout",
          "text": [
            "price    17.442105\n",
            "dtype: float64\n"
          ]
        },
        {
          "output_type": "execute_result",
          "data": {
            "text/plain": [
              "price    16.165354\n",
              "dtype: float64"
            ]
          },
          "metadata": {},
          "execution_count": 52
        }
      ]
    },
    {
      "cell_type": "code",
      "metadata": {
        "colab": {
          "base_uri": "https://localhost:8080/"
        },
        "id": "FL1V8jg1DEVL",
        "outputId": "aaf4c168-b346-419e-87f2-fdc03de3a689"
      },
      "source": [
        "print(y_train[X_labels==2].mean())\n",
        "y_train[X_labels_scaled==2].mean()"
      ],
      "execution_count": null,
      "outputs": [
        {
          "output_type": "stream",
          "name": "stdout",
          "text": [
            "price    13.196774\n",
            "dtype: float64\n"
          ]
        },
        {
          "output_type": "execute_result",
          "data": {
            "text/plain": [
              "price    24.958115\n",
              "dtype: float64"
            ]
          },
          "metadata": {},
          "execution_count": 53
        }
      ]
    },
    {
      "cell_type": "code",
      "metadata": {
        "colab": {
          "base_uri": "https://localhost:8080/"
        },
        "id": "f_MfxPgsEIDy",
        "outputId": "4cc6b17b-09a4-42c2-d97a-c2fcb8b898a9"
      },
      "source": [
        "print(X_train['CRIM'].mean())\n"
      ],
      "execution_count": 79,
      "outputs": [
        {
          "output_type": "stream",
          "name": "stdout",
          "text": [
            "3.609124628712873\n"
          ]
        }
      ]
    },
    {
      "cell_type": "code",
      "metadata": {
        "colab": {
          "base_uri": "https://localhost:8080/"
        },
        "id": "pFqL0bXeD12l",
        "outputId": "17ebd713-1992-40d6-9d74-1e823b524845"
      },
      "source": [
        "print(X_train.loc[X_labels==0,'CRIM'].mean())\n",
        "X_train_scaled.loc[X_labels_scaled==0,'CRIM'].mean()"
      ],
      "execution_count": 85,
      "outputs": [
        {
          "output_type": "stream",
          "name": "stdout",
          "text": [
            "0.40486282828282844\n"
          ]
        },
        {
          "output_type": "execute_result",
          "data": {
            "text/plain": [
              "0.008299302991793798"
            ]
          },
          "metadata": {},
          "execution_count": 85
        }
      ]
    },
    {
      "cell_type": "code",
      "metadata": {
        "colab": {
          "base_uri": "https://localhost:8080/"
        },
        "id": "-U1G6HxuEY86",
        "outputId": "860dcda6-77db-48a4-b75b-5219721a2028"
      },
      "source": [
        "print(X_train.loc[X_labels==1,'CRIM'].mean())\n",
        "X_train_scaled.loc[X_labels_scaled==1,'CRIM'].mean()"
      ],
      "execution_count": 84,
      "outputs": [
        {
          "output_type": "stream",
          "name": "stdout",
          "text": [
            "11.745661842105266\n"
          ]
        },
        {
          "output_type": "execute_result",
          "data": {
            "text/plain": [
              "1.2180670445620154"
            ]
          },
          "metadata": {},
          "execution_count": 84
        }
      ]
    },
    {
      "cell_type": "code",
      "metadata": {
        "colab": {
          "base_uri": "https://localhost:8080/"
        },
        "id": "g9RWWWwLEbhu",
        "outputId": "0068f719-81c9-424c-adfb-ae4298237a1d"
      },
      "source": [
        "print(X_train.loc[X_labels==2,'CRIM'].mean())\n",
        "X_train.loc[X_labels_scaled==2,'CRIM'].mean()"
      ],
      "execution_count": 86,
      "outputs": [
        {
          "output_type": "stream",
          "name": "stdout",
          "text": [
            "14.360380322580648\n"
          ]
        },
        {
          "output_type": "execute_result",
          "data": {
            "text/plain": [
              "0.42166020942408367"
            ]
          },
          "metadata": {},
          "execution_count": 86
        }
      ]
    },
    {
      "cell_type": "markdown",
      "metadata": {
        "id": "04WsTsi01t4U"
      },
      "source": [
        "Задание 3\n",
        "Примените модель KMeans, построенную в предыдущем задании,\n",
        "к данным из тестового набора.\n",
        "Вычислите средние значения price и CRIM в разных кластерах на тестовых данных.\n"
      ]
    },
    {
      "cell_type": "code",
      "metadata": {
        "colab": {
          "base_uri": "https://localhost:8080/"
        },
        "id": "b2Tsn2LAFJC5",
        "outputId": "4ad48ade-13d1-4adc-a1ef-c945c264b735"
      },
      "source": [
        "X_test_labels=model.fit_predict(X_test)\n",
        "print(X_test_labels)\n",
        "X_test_labels_scaled=model.fit_predict(X_test_scaled)\n",
        "X_test_labels_scaled"
      ],
      "execution_count": null,
      "outputs": [
        {
          "output_type": "stream",
          "name": "stdout",
          "text": [
            "[0 0 1 0 1 0 0 0 1 0 0 0 2 0 0 1 0 1 0 1 0 0 0 0 1 1 0 2 0 0 0 0 1 1 1 0 0\n",
            " 0 0 0 0 0 0 0 0 1 0 0 1 0 0 0 0 0 0 1 1 0 0 0 0 0 0 0 0 0 1 0 0 2 0 1 1 0\n",
            " 0 1 0 0 1 1 0 1 0 1 0 0 1 0 0 0 0 2 0 0 1 0 1 2 2 2 0 0]\n"
          ]
        },
        {
          "output_type": "execute_result",
          "data": {
            "text/plain": [
              "array([1, 0, 2, 1, 2, 1, 1, 2, 2, 1, 1, 1, 2, 1, 1, 2, 1, 2, 0, 2, 1, 0,\n",
              "       1, 1, 2, 2, 1, 2, 1, 1, 1, 1, 2, 2, 2, 2, 1, 1, 1, 1, 1, 1, 0, 1,\n",
              "       1, 2, 1, 1, 2, 1, 1, 0, 1, 1, 0, 2, 2, 0, 1, 1, 0, 0, 1, 1, 0, 1,\n",
              "       2, 1, 0, 2, 1, 2, 2, 0, 1, 2, 1, 0, 2, 2, 1, 2, 0, 2, 1, 1, 2, 1,\n",
              "       1, 1, 1, 2, 1, 1, 2, 1, 2, 2, 2, 2, 1, 1], dtype=int32)"
            ]
          },
          "metadata": {},
          "execution_count": 66
        }
      ]
    },
    {
      "cell_type": "code",
      "metadata": {
        "colab": {
          "base_uri": "https://localhost:8080/"
        },
        "id": "C277VzcaFwck",
        "outputId": "ad5a99e8-46bb-411a-fd86-5c716f890cd9"
      },
      "source": [
        "print('средняя цена жилья в кластере 0: {}'.format(y_test[X_test_labels==0].mean()))\n",
        "print('средняя преступность в кластере 0: {}'.format(X_test.loc[X_test_labels==0,'CRIM'].mean()))\n",
        "print('средняя цена жилья в кластере 0: {}'.format(y_test[X_test_labels_scaled==0].mean()))\n",
        "print('средняя преступность в кластере 0: {}'.format(X_test.loc[X_test_labels_scaled==0,'CRIM'].mean()))"
      ],
      "execution_count": null,
      "outputs": [
        {
          "output_type": "stream",
          "name": "stdout",
          "text": [
            "средняя цена жилья в кластере 0: price    23.911594\n",
            "dtype: float64\n",
            "средняя преступность в кластере 0: 0.2464211594202899\n",
            "средняя цена жилья в кластере 0: price    33.871429\n",
            "dtype: float64\n",
            "средняя преступность в кластере 0: 0.08618571428571427\n"
          ]
        }
      ]
    },
    {
      "cell_type": "code",
      "metadata": {
        "colab": {
          "base_uri": "https://localhost:8080/"
        },
        "id": "cSGrd_bKHAzu",
        "outputId": "ddaf5deb-173d-4d90-c53d-35e225745522"
      },
      "source": [
        "print('средняя цена жилья в кластере 1: {}'.format(y_test[X_test_labels==1].mean()))\n",
        "print('средняя преступность в кластере 1: {}'.format(X_test.loc[X_test_labels==1,'CRIM'].mean()))\n",
        "print('средняя цена жилья в кластере 1: {}'.format(y_test[X_test_labels_scaled==1].mean()))\n",
        "print('средняя преступность в кластере 1: {}'.format(X_test.loc[X_test_labels_scaled==1,'CRIM'].mean()))"
      ],
      "execution_count": 77,
      "outputs": [
        {
          "output_type": "stream",
          "name": "stdout",
          "text": [
            "средняя цена жилья в кластере 1: price    17.392308\n",
            "dtype: float64\n",
            "средняя преступность в кластере 1: 8.469301923076923\n",
            "средняя цена жилья в кластере 1: price    21.55283\n",
            "dtype: float64\n",
            "средняя преступность в кластере 1: 0.25200716981132076\n"
          ]
        }
      ]
    },
    {
      "cell_type": "code",
      "metadata": {
        "colab": {
          "base_uri": "https://localhost:8080/"
        },
        "id": "wYCo307KHWZd",
        "outputId": "e8ad29d6-ab43-4e13-bd9b-4f6382e7beb6"
      },
      "source": [
        "print('средняя цена жилья в кластере 2: {}'.format(y_test[X_test_labels==2].mean()))\n",
        "print('средняя преступность в кластере 2: {}'.format(X_test.loc[X_test_labels==2,'CRIM'].mean()))\n",
        "print('средняя цена жилья в кластере 2: {}'.format(y_test[X_test_labels_scaled==2].mean()))\n",
        "print('средняя преступность в кластере 2: {}'.format(X_test.loc[X_test_labels_scaled==2,'CRIM'].mean()))"
      ],
      "execution_count": null,
      "outputs": [
        {
          "output_type": "stream",
          "name": "stdout",
          "text": [
            "средняя цена жилья в кластере 2: price    12.814286\n",
            "dtype: float64\n",
            "средняя преступность в кластере 2: 19.021665714285714\n",
            "средняя цена жилья в кластере 2: price    16.437143\n",
            "dtype: float64\n",
            "средняя преступность в кластере 2: 10.165531142857143\n"
          ]
        }
      ]
    }
  ]
}