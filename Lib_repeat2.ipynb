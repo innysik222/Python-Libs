{
  "nbformat": 4,
  "nbformat_minor": 0,
  "metadata": {
    "colab": {
      "name": "Lib_repeat2.ipynb",
      "provenance": [],
      "authorship_tag": "ABX9TyO9Mth5jvdaxnoRjEl0bLyi",
      "include_colab_link": true
    },
    "kernelspec": {
      "name": "python3",
      "display_name": "Python 3"
    },
    "language_info": {
      "name": "python"
    }
  },
  "cells": [
    {
      "cell_type": "markdown",
      "metadata": {
        "id": "view-in-github",
        "colab_type": "text"
      },
      "source": [
        "<a href=\"https://colab.research.google.com/github/innysik222/Python-Libs/blob/main/Lib_repeat2.ipynb\" target=\"_parent\"><img src=\"https://colab.research.google.com/assets/colab-badge.svg\" alt=\"Open In Colab\"/></a>"
      ]
    },
    {
      "cell_type": "markdown",
      "metadata": {
        "id": "64jg6DsD3PmP"
      },
      "source": [
        "Создать одномерный массив Numpy под названием a из 12 последовательных целых чисел чисел от 12 до 24 невключительно"
      ]
    },
    {
      "cell_type": "code",
      "metadata": {
        "colab": {
          "base_uri": "https://localhost:8080/"
        },
        "id": "bzP5787B3JEl",
        "outputId": "90bb4976-b321-44b1-e255-e8b02cf9cbfb"
      },
      "source": [
        "import numpy as np\n",
        "a=np.array([i for i in range (12,24)])\n",
        "a"
      ],
      "execution_count": 163,
      "outputs": [
        {
          "output_type": "execute_result",
          "data": {
            "text/plain": [
              "array([12, 13, 14, 15, 16, 17, 18, 19, 20, 21, 22, 23])"
            ]
          },
          "metadata": {},
          "execution_count": 163
        }
      ]
    },
    {
      "cell_type": "markdown",
      "metadata": {
        "id": "6WRZ346d6fdr"
      },
      "source": [
        "Создать 5 двумерных массивов разной формы из массива a. Не использовать в аргументах метода reshape число -1."
      ]
    },
    {
      "cell_type": "code",
      "metadata": {
        "id": "R_TNFgVU6oqQ",
        "colab": {
          "base_uri": "https://localhost:8080/"
        },
        "outputId": "d58ea021-ed46-454f-c13f-23ee1615a581"
      },
      "source": [
        "b=a.reshape(2,6)\n",
        "print(b)\n",
        "c=a.reshape(3,4)\n",
        "print(c)\n",
        "d=a.reshape(6,2)\n",
        "print(d)\n",
        "e=a.reshape(4,3)\n",
        "print(e)\n",
        "f=a.reshape(12,1)\n",
        "print(f)"
      ],
      "execution_count": 164,
      "outputs": [
        {
          "output_type": "stream",
          "name": "stdout",
          "text": [
            "[[12 13 14 15 16 17]\n",
            " [18 19 20 21 22 23]]\n",
            "[[12 13 14 15]\n",
            " [16 17 18 19]\n",
            " [20 21 22 23]]\n",
            "[[12 13]\n",
            " [14 15]\n",
            " [16 17]\n",
            " [18 19]\n",
            " [20 21]\n",
            " [22 23]]\n",
            "[[12 13 14]\n",
            " [15 16 17]\n",
            " [18 19 20]\n",
            " [21 22 23]]\n",
            "[[12]\n",
            " [13]\n",
            " [14]\n",
            " [15]\n",
            " [16]\n",
            " [17]\n",
            " [18]\n",
            " [19]\n",
            " [20]\n",
            " [21]\n",
            " [22]\n",
            " [23]]\n"
          ]
        }
      ]
    },
    {
      "cell_type": "markdown",
      "metadata": {
        "id": "HCP2tVrT6pNG"
      },
      "source": [
        "Создать 5 двумерных массивов разной формы из массива a. Использовать в аргументах метода reshape число -1 (в трех примерах - для обозначения числа столбцов, в двух - для строк)."
      ]
    },
    {
      "cell_type": "code",
      "metadata": {
        "id": "ASWqZcqp6wMA",
        "colab": {
          "base_uri": "https://localhost:8080/"
        },
        "outputId": "a128c062-f1eb-4ab4-fe8e-e44bb38b72db"
      },
      "source": [
        "g=a.reshape(3,-1)\n",
        "print(g)\n",
        "h=a.reshape(4,-1)\n",
        "print(h)\n",
        "j=a.reshape(2,-1)\n",
        "print(j)\n",
        "k=a.reshape(-1,6)\n",
        "print(k)\n",
        "l=a.reshape(-1,2)\n",
        "print(l)"
      ],
      "execution_count": 165,
      "outputs": [
        {
          "output_type": "stream",
          "name": "stdout",
          "text": [
            "[[12 13 14 15]\n",
            " [16 17 18 19]\n",
            " [20 21 22 23]]\n",
            "[[12 13 14]\n",
            " [15 16 17]\n",
            " [18 19 20]\n",
            " [21 22 23]]\n",
            "[[12 13 14 15 16 17]\n",
            " [18 19 20 21 22 23]]\n",
            "[[12 13 14 15 16 17]\n",
            " [18 19 20 21 22 23]]\n",
            "[[12 13]\n",
            " [14 15]\n",
            " [16 17]\n",
            " [18 19]\n",
            " [20 21]\n",
            " [22 23]]\n"
          ]
        }
      ]
    },
    {
      "cell_type": "markdown",
      "metadata": {
        "id": "Sl_8YTig6wlM"
      },
      "source": [
        "Можно ли массив Numpy, состоящий из одного столбца и 12 строк, назвать одномерным?"
      ]
    },
    {
      "cell_type": "markdown",
      "metadata": {
        "id": "_IHyG8926zxk"
      },
      "source": [
        "Нет. Массив из одного столбца и 12 строк является многомерным"
      ]
    },
    {
      "cell_type": "markdown",
      "metadata": {
        "id": "TDtQepDU60P6"
      },
      "source": [
        "Создать массив из 3 строк и 4 столбцов, состоящий из случайных чисел с плавающей запятой из нормального распределения со средним, равным 0 и среднеквадратичным отклонением, равным 1.0. Получить из этого массива одномерный массив с таким же атрибутом size, как и исходный массив."
      ]
    },
    {
      "cell_type": "code",
      "metadata": {
        "id": "qjmVTdII667Y",
        "colab": {
          "base_uri": "https://localhost:8080/"
        },
        "outputId": "ca279ad1-e5f1-4510-d16c-108fee7c50cb"
      },
      "source": [
        "a=np.random.randn(3,4)\n",
        "print(a)\n",
        "print(a.size)\n",
        "b=a.flatten()\n",
        "print(b)\n",
        "print(b.size)"
      ],
      "execution_count": 166,
      "outputs": [
        {
          "output_type": "stream",
          "name": "stdout",
          "text": [
            "[[ 1.57921282  0.76743473 -0.46947439  0.54256004]\n",
            " [-0.46341769 -0.46572975  0.24196227 -1.91328024]\n",
            " [-1.72491783 -0.56228753 -1.01283112  0.31424733]]\n",
            "12\n",
            "[ 1.57921282  0.76743473 -0.46947439  0.54256004 -0.46341769 -0.46572975\n",
            "  0.24196227 -1.91328024 -1.72491783 -0.56228753 -1.01283112  0.31424733]\n",
            "12\n"
          ]
        }
      ]
    },
    {
      "cell_type": "markdown",
      "metadata": {
        "id": "DpI78_tb65Mw"
      },
      "source": [
        "Создать массив a, состоящий из целых чисел, убывающих от 20 до 0 невключительно с интервалом 2."
      ]
    },
    {
      "cell_type": "code",
      "metadata": {
        "id": "5SRrOJ0r7AnJ",
        "colab": {
          "base_uri": "https://localhost:8080/"
        },
        "outputId": "24c490dd-3ac1-476d-beb3-f18bfa683111"
      },
      "source": [
        "a=np.arange(20, 0, -2)\n",
        "print(a)"
      ],
      "execution_count": 167,
      "outputs": [
        {
          "output_type": "stream",
          "name": "stdout",
          "text": [
            "[20 18 16 14 12 10  8  6  4  2]\n"
          ]
        }
      ]
    },
    {
      "cell_type": "markdown",
      "metadata": {
        "id": "imMVxZmy7BHe"
      },
      "source": [
        "Создать массив b, состоящий из 1 строки и 10 столбцов: целых чисел, убывающих от 20 до 1 невключительно с интервалом 2. В чем разница между массивами a и b?"
      ]
    },
    {
      "cell_type": "code",
      "metadata": {
        "id": "KcUSXWLc7HXf",
        "colab": {
          "base_uri": "https://localhost:8080/"
        },
        "outputId": "d49c33d6-33d4-4c57-cd5f-ae13aa7a64b9"
      },
      "source": [
        "b=np.arange(20,1,-2).reshape(-1,1)\n",
        "print(b)"
      ],
      "execution_count": 168,
      "outputs": [
        {
          "output_type": "stream",
          "name": "stdout",
          "text": [
            "[[20]\n",
            " [18]\n",
            " [16]\n",
            " [14]\n",
            " [12]\n",
            " [10]\n",
            " [ 8]\n",
            " [ 6]\n",
            " [ 4]\n",
            " [ 2]]\n"
          ]
        }
      ]
    },
    {
      "cell_type": "markdown",
      "metadata": {
        "id": "tHcCAQ9ZZ32y"
      },
      "source": [
        "Разница между массивами: a-одномерный, b-многомерный"
      ]
    },
    {
      "cell_type": "markdown",
      "metadata": {
        "id": "sIGFgwKE7Ho7"
      },
      "source": [
        "Вертикально соединить массивы a и b. a - двумерный массив из нулей, число строк которого больше 1 и на 1 меньше, чем число строк двумерного массива b, состоящего из единиц. Итоговый массив v должен иметь атрибут size, равный 10"
      ]
    },
    {
      "cell_type": "code",
      "metadata": {
        "id": "tO8HsZ2k7NTL",
        "colab": {
          "base_uri": "https://localhost:8080/"
        },
        "outputId": "a5d3cf9a-deef-477b-fd66-f5012f650075"
      },
      "source": [
        "a=np.zeros((2,2))\n",
        "b=np.ones((3,2))\n",
        "v=np.vstack((a,b))\n",
        "print(v)\n",
        "v.size"
      ],
      "execution_count": 169,
      "outputs": [
        {
          "output_type": "stream",
          "name": "stdout",
          "text": [
            "[[0. 0.]\n",
            " [0. 0.]\n",
            " [1. 1.]\n",
            " [1. 1.]\n",
            " [1. 1.]]\n"
          ]
        },
        {
          "output_type": "execute_result",
          "data": {
            "text/plain": [
              "10"
            ]
          },
          "metadata": {},
          "execution_count": 169
        }
      ]
    },
    {
      "cell_type": "markdown",
      "metadata": {
        "id": "9B8W5CJw7N-A"
      },
      "source": [
        "Создать одномерный массив а, состоящий из последовательности целых чисел от 0 до 12. Поменять форму этого массива, чтобы получилась матрица A (двумерный массив Numpy), состоящая из 4 строк и 3 столбцов. Получить матрицу At путем транспонирования матрицы A. Получить матрицу B, умножив матрицу A на матрицу At с помощью матричного умножения. Какой размер имеет матрица B? Получится ли вычислить обратную матрицу для матрицы B и почему?"
      ]
    },
    {
      "cell_type": "code",
      "metadata": {
        "id": "JZpdZihT7Vmn",
        "colab": {
          "base_uri": "https://localhost:8080/"
        },
        "outputId": "950ca35f-0af7-4dab-bc04-b3cbbd158ff5"
      },
      "source": [
        "a=np.arange(0,12)\n",
        "A=a.reshape(4,3)\n",
        "print(A)\n",
        "At=A.T\n",
        "print(At)\n",
        "B=A.dot(At)\n",
        "print(B)\n",
        "print(B.size)\n",
        "DetB=np.linalg.det(B)\n",
        "DetB"
      ],
      "execution_count": 170,
      "outputs": [
        {
          "output_type": "stream",
          "name": "stdout",
          "text": [
            "[[ 0  1  2]\n",
            " [ 3  4  5]\n",
            " [ 6  7  8]\n",
            " [ 9 10 11]]\n",
            "[[ 0  3  6  9]\n",
            " [ 1  4  7 10]\n",
            " [ 2  5  8 11]]\n",
            "[[  5  14  23  32]\n",
            " [ 14  50  86 122]\n",
            " [ 23  86 149 212]\n",
            " [ 32 122 212 302]]\n",
            "16\n"
          ]
        },
        {
          "output_type": "execute_result",
          "data": {
            "text/plain": [
              "0.0"
            ]
          },
          "metadata": {},
          "execution_count": 170
        }
      ]
    },
    {
      "cell_type": "markdown",
      "metadata": {
        "id": "7nl_lAsqh3gq"
      },
      "source": [
        "Поскольку определитель матрицы B равен 0, обратной матрицы не существует"
      ]
    },
    {
      "cell_type": "markdown",
      "metadata": {
        "id": "h1DIcUcU7c9K"
      },
      "source": [
        "Инициализируйте генератор случайных числе с помощью объекта seed, равного 42."
      ]
    },
    {
      "cell_type": "code",
      "metadata": {
        "id": "2r0E_2DO7dqc"
      },
      "source": [
        "np.random.seed(42)"
      ],
      "execution_count": 171,
      "outputs": []
    },
    {
      "cell_type": "markdown",
      "metadata": {
        "id": "FYarG3W37d7K"
      },
      "source": [
        "\n",
        "Создайте одномерный массив c, составленный из последовательности 16-ти случайных равномерно распределенных целых чисел от 0 до 16 невключительно."
      ]
    },
    {
      "cell_type": "code",
      "metadata": {
        "id": "UFfU8RGt8T44",
        "colab": {
          "base_uri": "https://localhost:8080/"
        },
        "outputId": "4193b243-3bb7-4267-970c-5a63a01f2467"
      },
      "source": [
        "ar=np.random.randint(0,16,(16))\n",
        "ar"
      ],
      "execution_count": 172,
      "outputs": [
        {
          "output_type": "execute_result",
          "data": {
            "text/plain": [
              "array([ 6,  3, 12, 14, 10,  7, 12,  4,  6,  9,  2,  6, 10, 10,  7,  4])"
            ]
          },
          "metadata": {},
          "execution_count": 172
        }
      ]
    },
    {
      "cell_type": "markdown",
      "metadata": {
        "id": "Qg1yPXsj8UMW"
      },
      "source": [
        "Поменяйте его форму так, чтобы получилась квадратная матрица C. Получите матрицу D, поэлементно прибавив матрицу B из предыдущего вопроса к матрице C, умноженной на 10. Вычислите определитель, ранг и обратную матрицу D_inv для D."
      ]
    },
    {
      "cell_type": "code",
      "metadata": {
        "id": "FNXzbojV8wxb",
        "colab": {
          "base_uri": "https://localhost:8080/"
        },
        "outputId": "01d7df69-5aae-4b11-b5dc-7e6d91b391ff"
      },
      "source": [
        "C=ar.reshape(4,4)\n",
        "print(C)\n",
        "D=B+10*C\n",
        "print(D)\n",
        "print(np.linalg.det(D))\n",
        "print(np.linalg.matrix_rank(D))\n",
        "D_inv=np.linalg.inv(D)\n",
        "print(D_inv)"
      ],
      "execution_count": 173,
      "outputs": [
        {
          "output_type": "stream",
          "name": "stdout",
          "text": [
            "[[ 6  3 12 14]\n",
            " [10  7 12  4]\n",
            " [ 6  9  2  6]\n",
            " [10 10  7  4]]\n",
            "[[ 65  44 143 172]\n",
            " [114 120 206 162]\n",
            " [ 83 176 169 272]\n",
            " [132 222 282 342]]\n",
            "-28511999.999999944\n",
            "4\n",
            "[[ 0.00935396  0.04486532  0.05897517 -0.07286055]\n",
            " [-0.01503577 -0.00122896 -0.00192971  0.00967873]\n",
            " [-0.00356692 -0.01782828 -0.04152146  0.04326178]\n",
            " [ 0.00909091 -0.00181818  0.01272727 -0.01090909]]\n"
          ]
        }
      ]
    },
    {
      "cell_type": "markdown",
      "metadata": {
        "id": "89XGAob38uD2"
      },
      "source": [
        "Приравняйте к нулю отрицательные числа в матрице D_inv, а положительные - к единице. Убедитесь, что в матрице D_inv остались только нули и единицы. С помощью функции numpy.where, используя матрицу D_inv в качестве маски, а матрицы B и C - в качестве источников данных, получите матрицу E размером 4x4.  Элементы матрицы E, для которых соответствующий элемент матрицы D_inv равен 1, должны быть равны соответствующему элементу матрицы B, а элементы матрицы E, для которых соответствующий элемент матрицы D_inv равен 0, должны быть равны соответствующему элементу матрицы C."
      ]
    },
    {
      "cell_type": "code",
      "metadata": {
        "id": "n5uw5Fy48xbe",
        "colab": {
          "base_uri": "https://localhost:8080/"
        },
        "outputId": "cb19af03-e84b-4291-f3b8-0ab250275441"
      },
      "source": [
        "\n",
        "D_inv[D_inv<0]=0\n",
        "\n",
        "D_inv[D_inv>0]=1\n",
        "print(D_inv)\n",
        "\n",
        "E = np.where(D_inv, B, C)\n",
        "E"
      ],
      "execution_count": 174,
      "outputs": [
        {
          "output_type": "stream",
          "name": "stdout",
          "text": [
            "[[1. 1. 1. 0.]\n",
            " [0. 0. 0. 1.]\n",
            " [0. 0. 0. 1.]\n",
            " [1. 0. 1. 0.]]\n"
          ]
        },
        {
          "output_type": "execute_result",
          "data": {
            "text/plain": [
              "array([[  5,  14,  23,  14],\n",
              "       [ 10,   7,  12, 122],\n",
              "       [  6,   9,   2, 212],\n",
              "       [ 32,  10, 212,   4]])"
            ]
          },
          "metadata": {},
          "execution_count": 174
        }
      ]
    }
  ]
}